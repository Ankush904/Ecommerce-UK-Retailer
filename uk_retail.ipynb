{
 "cells": [
  {
   "cell_type": "code",
   "execution_count": 2,
   "metadata": {
    "collapsed": true
   },
   "outputs": [],
   "source": [
    "import pandas as pd\n",
    "import matplotlib.pyplot as plt\n",
    "import numpy as np\n",
    "import seaborn as sns\n",
    "import warnings\n",
    "warnings.filterwarnings('ignore')"
   ]
  },
  {
   "cell_type": "code",
   "execution_count": 23,
   "metadata": {
    "pycharm": {
     "name": "#%%\n"
    }
   },
   "outputs": [
    {
     "data": {
      "text/plain": "  InvoiceNo StockCode                          Description  Quantity  \\\n0    536365    85123A   WHITE HANGING HEART T-LIGHT HOLDER         6   \n1    536365     71053                  WHITE METAL LANTERN         6   \n2    536365    84406B       CREAM CUPID HEARTS COAT HANGER         8   \n3    536365    84029G  KNITTED UNION FLAG HOT WATER BOTTLE         6   \n4    536365    84029E       RED WOOLLY HOTTIE WHITE HEART.         6   \n\n      InvoiceDate  UnitPrice  CustomerID         Country  \n0  12/1/2010 8:26       2.55     17850.0  United Kingdom  \n1  12/1/2010 8:26       3.39     17850.0  United Kingdom  \n2  12/1/2010 8:26       2.75     17850.0  United Kingdom  \n3  12/1/2010 8:26       3.39     17850.0  United Kingdom  \n4  12/1/2010 8:26       3.39     17850.0  United Kingdom  ",
      "text/html": "<div>\n<style scoped>\n    .dataframe tbody tr th:only-of-type {\n        vertical-align: middle;\n    }\n\n    .dataframe tbody tr th {\n        vertical-align: top;\n    }\n\n    .dataframe thead th {\n        text-align: right;\n    }\n</style>\n<table border=\"1\" class=\"dataframe\">\n  <thead>\n    <tr style=\"text-align: right;\">\n      <th></th>\n      <th>InvoiceNo</th>\n      <th>StockCode</th>\n      <th>Description</th>\n      <th>Quantity</th>\n      <th>InvoiceDate</th>\n      <th>UnitPrice</th>\n      <th>CustomerID</th>\n      <th>Country</th>\n    </tr>\n  </thead>\n  <tbody>\n    <tr>\n      <th>0</th>\n      <td>536365</td>\n      <td>85123A</td>\n      <td>WHITE HANGING HEART T-LIGHT HOLDER</td>\n      <td>6</td>\n      <td>12/1/2010 8:26</td>\n      <td>2.55</td>\n      <td>17850.0</td>\n      <td>United Kingdom</td>\n    </tr>\n    <tr>\n      <th>1</th>\n      <td>536365</td>\n      <td>71053</td>\n      <td>WHITE METAL LANTERN</td>\n      <td>6</td>\n      <td>12/1/2010 8:26</td>\n      <td>3.39</td>\n      <td>17850.0</td>\n      <td>United Kingdom</td>\n    </tr>\n    <tr>\n      <th>2</th>\n      <td>536365</td>\n      <td>84406B</td>\n      <td>CREAM CUPID HEARTS COAT HANGER</td>\n      <td>8</td>\n      <td>12/1/2010 8:26</td>\n      <td>2.75</td>\n      <td>17850.0</td>\n      <td>United Kingdom</td>\n    </tr>\n    <tr>\n      <th>3</th>\n      <td>536365</td>\n      <td>84029G</td>\n      <td>KNITTED UNION FLAG HOT WATER BOTTLE</td>\n      <td>6</td>\n      <td>12/1/2010 8:26</td>\n      <td>3.39</td>\n      <td>17850.0</td>\n      <td>United Kingdom</td>\n    </tr>\n    <tr>\n      <th>4</th>\n      <td>536365</td>\n      <td>84029E</td>\n      <td>RED WOOLLY HOTTIE WHITE HEART.</td>\n      <td>6</td>\n      <td>12/1/2010 8:26</td>\n      <td>3.39</td>\n      <td>17850.0</td>\n      <td>United Kingdom</td>\n    </tr>\n  </tbody>\n</table>\n</div>"
     },
     "execution_count": 23,
     "metadata": {},
     "output_type": "execute_result"
    }
   ],
   "source": [
    "df = pd.read_csv('Ecommerce_UKRetailer.csv')\n",
    "df.head()"
   ]
  },
  {
   "cell_type": "code",
   "execution_count": 24,
   "metadata": {
    "pycharm": {
     "name": "#%%\n"
    }
   },
   "outputs": [
    {
     "data": {
      "text/plain": "(541909, 8)"
     },
     "execution_count": 24,
     "metadata": {},
     "output_type": "execute_result"
    }
   ],
   "source": [
    "df.shape"
   ]
  },
  {
   "cell_type": "code",
   "execution_count": 25,
   "metadata": {
    "pycharm": {
     "name": "#%%\n"
    }
   },
   "outputs": [
    {
     "name": "stdout",
     "output_type": "stream",
     "text": [
      "<class 'pandas.core.frame.DataFrame'>\n",
      "RangeIndex: 541909 entries, 0 to 541908\n",
      "Data columns (total 8 columns):\n",
      " #   Column       Non-Null Count   Dtype  \n",
      "---  ------       --------------   -----  \n",
      " 0   InvoiceNo    541909 non-null  object \n",
      " 1   StockCode    541909 non-null  object \n",
      " 2   Description  540455 non-null  object \n",
      " 3   Quantity     541909 non-null  int64  \n",
      " 4   InvoiceDate  541909 non-null  object \n",
      " 5   UnitPrice    541909 non-null  float64\n",
      " 6   CustomerID   406829 non-null  float64\n",
      " 7   Country      541909 non-null  object \n",
      "dtypes: float64(2), int64(1), object(5)\n",
      "memory usage: 33.1+ MB\n"
     ]
    }
   ],
   "source": [
    "df.info()"
   ]
  },
  {
   "cell_type": "markdown",
   "metadata": {
    "pycharm": {
     "name": "#%% md\n"
    }
   },
   "source": [
    "#### Cleaning Data"
   ]
  },
  {
   "cell_type": "code",
   "execution_count": 26,
   "metadata": {
    "pycharm": {
     "name": "#%%\n"
    }
   },
   "outputs": [
    {
     "data": {
      "text/plain": "InvoiceNo           0\nStockCode           0\nDescription      1454\nQuantity            0\nInvoiceDate         0\nUnitPrice           0\nCustomerID     135080\nCountry             0\ndtype: int64"
     },
     "execution_count": 26,
     "metadata": {},
     "output_type": "execute_result"
    }
   ],
   "source": [
    "df.isnull().sum()"
   ]
  },
  {
   "cell_type": "code",
   "execution_count": 27,
   "metadata": {
    "pycharm": {
     "name": "#%%\n"
    }
   },
   "outputs": [],
   "source": [
    "null_C_ID = df[df.CustomerID.isnull()].index\n",
    "df.drop(null_C_ID,inplace = True)"
   ]
  },
  {
   "cell_type": "code",
   "execution_count": 28,
   "metadata": {
    "pycharm": {
     "name": "#%%\n"
    }
   },
   "outputs": [],
   "source": [
    "null_Des = df[df['Description'].isnull()].index\n",
    "df.drop(null_Des,inplace = True)"
   ]
  },
  {
   "cell_type": "code",
   "execution_count": 29,
   "metadata": {
    "pycharm": {
     "name": "#%%\n"
    }
   },
   "outputs": [],
   "source": [
    "df['InvoiceDate'] = pd.to_datetime(df.InvoiceDate)\n",
    "df['CustomerID'] = df.CustomerID.astype('int')\n",
    "df['InvoiceNo'] = df.CustomerID.astype('int')"
   ]
  },
  {
   "cell_type": "code",
   "execution_count": 30,
   "metadata": {
    "pycharm": {
     "name": "#%%\n"
    }
   },
   "outputs": [
    {
     "data": {
      "text/plain": "           InvoiceNo       Quantity      UnitPrice     CustomerID\ncount  406829.000000  406829.000000  406829.000000  406829.000000\nmean    15287.690570      12.061303       3.460471   15287.690570\nstd      1713.600303     248.693370      69.315162    1713.600303\nmin     12346.000000  -80995.000000       0.000000   12346.000000\n25%     13953.000000       2.000000       1.250000   13953.000000\n50%     15152.000000       5.000000       1.950000   15152.000000\n75%     16791.000000      12.000000       3.750000   16791.000000\nmax     18287.000000   80995.000000   38970.000000   18287.000000",
      "text/html": "<div>\n<style scoped>\n    .dataframe tbody tr th:only-of-type {\n        vertical-align: middle;\n    }\n\n    .dataframe tbody tr th {\n        vertical-align: top;\n    }\n\n    .dataframe thead th {\n        text-align: right;\n    }\n</style>\n<table border=\"1\" class=\"dataframe\">\n  <thead>\n    <tr style=\"text-align: right;\">\n      <th></th>\n      <th>InvoiceNo</th>\n      <th>Quantity</th>\n      <th>UnitPrice</th>\n      <th>CustomerID</th>\n    </tr>\n  </thead>\n  <tbody>\n    <tr>\n      <th>count</th>\n      <td>406829.000000</td>\n      <td>406829.000000</td>\n      <td>406829.000000</td>\n      <td>406829.000000</td>\n    </tr>\n    <tr>\n      <th>mean</th>\n      <td>15287.690570</td>\n      <td>12.061303</td>\n      <td>3.460471</td>\n      <td>15287.690570</td>\n    </tr>\n    <tr>\n      <th>std</th>\n      <td>1713.600303</td>\n      <td>248.693370</td>\n      <td>69.315162</td>\n      <td>1713.600303</td>\n    </tr>\n    <tr>\n      <th>min</th>\n      <td>12346.000000</td>\n      <td>-80995.000000</td>\n      <td>0.000000</td>\n      <td>12346.000000</td>\n    </tr>\n    <tr>\n      <th>25%</th>\n      <td>13953.000000</td>\n      <td>2.000000</td>\n      <td>1.250000</td>\n      <td>13953.000000</td>\n    </tr>\n    <tr>\n      <th>50%</th>\n      <td>15152.000000</td>\n      <td>5.000000</td>\n      <td>1.950000</td>\n      <td>15152.000000</td>\n    </tr>\n    <tr>\n      <th>75%</th>\n      <td>16791.000000</td>\n      <td>12.000000</td>\n      <td>3.750000</td>\n      <td>16791.000000</td>\n    </tr>\n    <tr>\n      <th>max</th>\n      <td>18287.000000</td>\n      <td>80995.000000</td>\n      <td>38970.000000</td>\n      <td>18287.000000</td>\n    </tr>\n  </tbody>\n</table>\n</div>"
     },
     "execution_count": 30,
     "metadata": {},
     "output_type": "execute_result"
    }
   ],
   "source": [
    "df.describe()"
   ]
  },
  {
   "cell_type": "markdown",
   "metadata": {
    "pycharm": {
     "name": "#%% md\n"
    }
   },
   "source": [
    "## Task 1. Perform Basic EDA\n",
    "#### a. Boxplot – All Numeric Variables"
   ]
  },
  {
   "cell_type": "code",
   "execution_count": 31,
   "metadata": {
    "pycharm": {
     "name": "#%%\n"
    }
   },
   "outputs": [
    {
     "data": {
      "text/plain": "<Figure size 864x432 with 2 Axes>",
      "image/png": "[encoded data removed]"
     },
     "metadata": {
      "needs_background": "light"
     },
     "output_type": "display_data"
    }
   ],
   "source": [
    "fig,ax=plt.subplots(1,2,figsize=(12,6))\n",
    "ax[0].boxplot(df[\"Quantity\"])\n",
    "ax[0].set_xticklabels([\"Quantity\"])\n",
    "ax[0].set_ylabel('Number of Quantities')\n",
    "ax[1].boxplot(df[\"UnitPrice\"])\n",
    "ax[1].set_xticklabels([\"UnitPrice\"])\n",
    "ax[1].set_ylabel(\"Price\")\n",
    "plt.show()"
   ]
  },
  {
   "cell_type": "code",
   "execution_count": 32,
   "metadata": {
    "pycharm": {
     "name": "#%%\n"
    }
   },
   "outputs": [],
   "source": [
    "# There are many outliars in the data set\n",
    "# We should remove the negative values from quantitu\n",
    "df.drop(df[df['Quantity']<0].index, inplace = True)"
   ]
  },
  {
   "cell_type": "code",
   "execution_count": 33,
   "metadata": {
    "pycharm": {
     "name": "#%%\n"
    }
   },
   "outputs": [
    {
     "data": {
      "text/plain": "<Figure size 864x432 with 2 Axes>",
      "image/png": "[encoded data removed]"
     },
     "metadata": {
      "needs_background": "light"
     },
     "output_type": "display_data"
    }
   ],
   "source": [
    "fig,ax=plt.subplots(1,2,figsize=(12,6))\n",
    "ax[0].boxplot(df[\"Quantity\"])\n",
    "ax[0].set_xticklabels([\"Quantity\"])\n",
    "ax[0].set_ylabel('Number of Quantities')\n",
    "ax[1].boxplot(df[\"UnitPrice\"])\n",
    "ax[1].set_xticklabels([\"UnitPrice\"])\n",
    "ax[1].set_ylabel(\"Price\")\n",
    "plt.show()"
   ]
  },
  {
   "cell_type": "markdown",
   "metadata": {
    "pycharm": {
     "name": "#%% md\n"
    }
   },
   "source": [
    "#### b. Histogram – All Numeric Variables"
   ]
  },
  {
   "cell_type": "code",
   "execution_count": 34,
   "metadata": {
    "pycharm": {
     "name": "#%%\n"
    }
   },
   "outputs": [],
   "source": [
    "df1 = df[df['Quantity']< 10000]\n",
    "df1 = df1[df1['UnitPrice']<1000]"
   ]
  },
  {
   "cell_type": "code",
   "execution_count": 35,
   "metadata": {
    "pycharm": {
     "name": "#%%\n"
    }
   },
   "outputs": [
    {
     "data": {
      "text/plain": "<Figure size 864x432 with 2 Axes>",
      "image/png": "[encoded data removed]"
     },
     "metadata": {
      "needs_background": "light"
     },
     "output_type": "display_data"
    }
   ],
   "source": [
    "fig,ax=plt.subplots(1,2,figsize=(12,6))\n",
    "ax[0].hist(df1.Quantity,bins=[500,1000,1500,2000,3000,4000,5000,6000])\n",
    "ax[0].set_xlabel('Quantity')\n",
    "ax[1].hist(df1.UnitPrice,bins=[100,200,300,400,500,600,700,800,900])\n",
    "ax[1].set_xlabel('UnitPrice')\n",
    "plt.show()"
   ]
  },
  {
   "cell_type": "markdown",
   "metadata": {
    "pycharm": {
     "name": "#%% md\n"
    }
   },
   "source": [
    "#### c. Distribution Plot – All Numeric Variables"
   ]
  },
  {
   "cell_type": "code",
   "execution_count": 36,
   "metadata": {
    "pycharm": {
     "name": "#%%\n"
    }
   },
   "outputs": [
    {
     "data": {
      "text/plain": "<Figure size 432x288 with 1 Axes>",
      "image/png": "[encoded data removed]"
     },
     "metadata": {
      "needs_background": "light"
     },
     "output_type": "display_data"
    }
   ],
   "source": [
    "df2 = df1[df1['Quantity']< 2000]\n",
    "sns.distplot(df2.Quantity)\n",
    "plt.show()"
   ]
  },
  {
   "cell_type": "code",
   "execution_count": 37,
   "metadata": {
    "pycharm": {
     "name": "#%%\n"
    }
   },
   "outputs": [
    {
     "data": {
      "text/plain": "<Figure size 432x288 with 1 Axes>",
      "image/png": "[encoded data removed]"
     },
     "metadata": {
      "needs_background": "light"
     },
     "output_type": "display_data"
    }
   ],
   "source": [
    "sns.distplot(df2[\"UnitPrice\"])\n",
    "plt.show()"
   ]
  },
  {
   "cell_type": "markdown",
   "metadata": {
    "pycharm": {
     "name": "#%% md\n"
    }
   },
   "source": [
    "### d. Aggregation for all numerical Columns"
   ]
  },
  {
   "cell_type": "code",
   "execution_count": 38,
   "metadata": {
    "pycharm": {
     "name": "#%%\n"
    }
   },
   "outputs": [
    {
     "data": {
      "text/plain": "           InvoiceNo       Quantity      UnitPrice     CustomerID\ncount  397878.000000  397878.000000  397878.000000  397878.000000\nmean    15294.393827      12.449929       2.989127   15294.393827\nstd      1713.159107      37.357203       6.994429    1713.159107\nmin     12347.000000       1.000000       0.000000   12347.000000\n25%     13969.000000       2.000000       1.250000   13969.000000\n50%     15159.000000       6.000000       1.950000   15159.000000\n75%     16795.000000      12.000000       3.750000   16795.000000\nmax     18287.000000    1992.000000     908.160000   18287.000000",
      "text/html": "<div>\n<style scoped>\n    .dataframe tbody tr th:only-of-type {\n        vertical-align: middle;\n    }\n\n    .dataframe tbody tr th {\n        vertical-align: top;\n    }\n\n    .dataframe thead th {\n        text-align: right;\n    }\n</style>\n<table border=\"1\" class=\"dataframe\">\n  <thead>\n    <tr style=\"text-align: right;\">\n      <th></th>\n      <th>InvoiceNo</th>\n      <th>Quantity</th>\n      <th>UnitPrice</th>\n      <th>CustomerID</th>\n    </tr>\n  </thead>\n  <tbody>\n    <tr>\n      <th>count</th>\n      <td>397878.000000</td>\n      <td>397878.000000</td>\n      <td>397878.000000</td>\n      <td>397878.000000</td>\n    </tr>\n    <tr>\n      <th>mean</th>\n      <td>15294.393827</td>\n      <td>12.449929</td>\n      <td>2.989127</td>\n      <td>15294.393827</td>\n    </tr>\n    <tr>\n      <th>std</th>\n      <td>1713.159107</td>\n      <td>37.357203</td>\n      <td>6.994429</td>\n      <td>1713.159107</td>\n    </tr>\n    <tr>\n      <th>min</th>\n      <td>12347.000000</td>\n      <td>1.000000</td>\n      <td>0.000000</td>\n      <td>12347.000000</td>\n    </tr>\n    <tr>\n      <th>25%</th>\n      <td>13969.000000</td>\n      <td>2.000000</td>\n      <td>1.250000</td>\n      <td>13969.000000</td>\n    </tr>\n    <tr>\n      <th>50%</th>\n      <td>15159.000000</td>\n      <td>6.000000</td>\n      <td>1.950000</td>\n      <td>15159.000000</td>\n    </tr>\n    <tr>\n      <th>75%</th>\n      <td>16795.000000</td>\n      <td>12.000000</td>\n      <td>3.750000</td>\n      <td>16795.000000</td>\n    </tr>\n    <tr>\n      <th>max</th>\n      <td>18287.000000</td>\n      <td>1992.000000</td>\n      <td>908.160000</td>\n      <td>18287.000000</td>\n    </tr>\n  </tbody>\n</table>\n</div>"
     },
     "execution_count": 38,
     "metadata": {},
     "output_type": "execute_result"
    }
   ],
   "source": [
    "df2.describe()"
   ]
  },
  {
   "cell_type": "markdown",
   "metadata": {
    "pycharm": {
     "name": "#%% md\n"
    }
   },
   "source": [
    "### e. Unique Values across all columns"
   ]
  },
  {
   "cell_type": "code",
   "execution_count": null,
   "metadata": {
    "pycharm": {
     "name": "#%%\n"
    }
   },
   "outputs": [],
   "source": [
    "a = df2.nunique()\n",
    "print(\"Unique value across the table are : \")\n",
    "print(a)"
   ]
  },
  {
   "cell_type": "markdown",
   "metadata": {
    "pycharm": {
     "name": "#%% md\n"
    }
   },
   "source": [
    "#### f. Duplicate values across all columns"
   ]
  },
  {
   "cell_type": "code",
   "execution_count": null,
   "metadata": {
    "pycharm": {
     "name": "#%%\n"
    }
   },
   "outputs": [],
   "source": [
    "b = df2[df2.duplicated()]\n",
    "print(\"Duplicate values across all columns are\")\n",
    "print(b)"
   ]
  },
  {
   "cell_type": "markdown",
   "metadata": {
    "pycharm": {
     "name": "#%% md\n"
    }
   },
   "source": [
    "#### g. Correlation – Heatmap - All Numeric Variables"
   ]
  },
  {
   "cell_type": "code",
   "execution_count": null,
   "metadata": {
    "pycharm": {
     "name": "#%%\n"
    }
   },
   "outputs": [],
   "source": [
    "correlation = df2.corr()\n",
    "sns.heatmap(correlation,annot = True,)"
   ]
  },
  {
   "cell_type": "markdown",
   "metadata": {
    "pycharm": {
     "name": "#%% md\n"
    }
   },
   "source": [
    "#### h. Regression Plot - All Numeric Variables"
   ]
  },
  {
   "cell_type": "code",
   "execution_count": null,
   "metadata": {
    "pycharm": {
     "name": "#%%\n"
    }
   },
   "outputs": [],
   "source": [
    "sns.regplot(x = 'Quantity',y = 'UnitPrice',data = df2)\n",
    "plt.show()"
   ]
  },
  {
   "cell_type": "markdown",
   "metadata": {
    "pycharm": {
     "name": "#%% md\n"
    }
   },
   "source": [
    "#### i. Bar Plot – Every Categorical Variable vs every Numerical Variable\n"
   ]
  },
  {
   "cell_type": "code",
   "execution_count": null,
   "metadata": {
    "pycharm": {
     "name": "#%%\n"
    }
   },
   "outputs": [],
   "source": [
    "plt.subplots(figsize=(12,10))\n",
    "df2.groupby(['Country'])['Quantity'].count().plot.barh()\n",
    "plt.xlabel('Quantity')\n",
    "plt.show()"
   ]
  },
  {
   "cell_type": "code",
   "execution_count": null,
   "metadata": {
    "pycharm": {
     "name": "#%%\n"
    }
   },
   "outputs": [],
   "source": [
    "plt.subplots(figsize=(12,10))\n",
    "df2.groupby(['Country'])['UnitPrice'].sum().plot.barh()\n",
    "plt.xlabel('Total Price')\n",
    "plt.show()"
   ]
  },
  {
   "cell_type": "markdown",
   "metadata": {
    "pycharm": {
     "name": "#%% md\n"
    }
   },
   "source": [
    "#### j. Pair plot - All Numeric Variables"
   ]
  },
  {
   "cell_type": "code",
   "execution_count": null,
   "metadata": {
    "pycharm": {
     "name": "#%%\n"
    }
   },
   "outputs": [],
   "source": [
    "sns.pairplot(df2 , hue = 'UnitPrice' , palette = 'coolwarm')\n",
    "plt.show()"
   ]
  },
  {
   "cell_type": "markdown",
   "metadata": {
    "pycharm": {
     "name": "#%% md\n"
    }
   },
   "source": [
    "#### k. Line chart to show the trend of data"
   ]
  },
  {
   "cell_type": "code",
   "execution_count": null,
   "metadata": {
    "pycharm": {
     "name": "#%%\n"
    }
   },
   "outputs": [],
   "source": [
    "plt.plot(df2[\"InvoiceDate\"],df2[\"Quantity\"],linestyle ='solid')\n",
    "plt.show()"
   ]
  },
  {
   "cell_type": "markdown",
   "metadata": {
    "pycharm": {
     "name": "#%% md\n"
    }
   },
   "source": [
    "#### l. Plot the skewness - All Numeric Variables"
   ]
  },
  {
   "cell_type": "code",
   "execution_count": null,
   "metadata": {
    "pycharm": {
     "name": "#%%\n"
    }
   },
   "outputs": [],
   "source": [
    "df4=df2[df2[\"Quantity\"]<70]\n",
    "sns.distplot(df4[\"Quantity\"],kde=False)\n",
    "plt.ylabel(\"Frequency\")\n",
    "median_price = round(df4[\"Quantity\"].median(), 2)\n",
    "mean_price = round(df4[\"Quantity\"].mean(), 2)\n",
    "plt.axvline(x=median_price, linestyle='--', linewidth=1.5,c= 'g',label= 'Median')\n",
    "plt.axvline(x=mean_price, linestyle='--', linewidth=1.5,c='r',label = \"Mean\")\n",
    "plt.legend()\n",
    "plt.show()"
   ]
  },
  {
   "cell_type": "code",
   "execution_count": null,
   "metadata": {
    "pycharm": {
     "name": "#%%\n"
    }
   },
   "outputs": [],
   "source": [
    "df4=df2[df2[\"UnitPrice\"]<30]\n",
    "sns.distplot(df4[\"UnitPrice\"],kde=False)\n",
    "median_price = round(df4[\"UnitPrice\"].median(), 2)\n",
    "mean_price = round(df4[\"UnitPrice\"].mean(), 2)\n",
    "plt.axvline(x=median_price, linestyle='--', linewidth=1.5,c= 'g',label= 'Median')\n",
    "plt.axvline(x=mean_price, linestyle='--', linewidth=1.5,c='r',label = \"Mean\")\n",
    "plt.legend()\n",
    "plt.show()"
   ]
  },
  {
   "cell_type": "markdown",
   "metadata": {
    "pycharm": {
     "name": "#%% md\n"
    }
   },
   "source": [
    "As mean is greater than median the quantities are positively skewed."
   ]
  },
  {
   "cell_type": "markdown",
   "metadata": {
    "pycharm": {
     "name": "#%% md\n"
    }
   },
   "source": [
    "#### 2. Check for missing values in all columns and replace them with the appropriate metric (Mean/Median/Mode)"
   ]
  },
  {
   "cell_type": "code",
   "execution_count": 3,
   "metadata": {
    "pycharm": {
     "name": "#%%\n"
    }
   },
   "outputs": [
    {
     "data": {
      "text/plain": "  InvoiceNo StockCode                          Description  Quantity  \\\n0    536365    85123A   WHITE HANGING HEART T-LIGHT HOLDER         6   \n1    536365     71053                  WHITE METAL LANTERN         6   \n2    536365    84406B       CREAM CUPID HEARTS COAT HANGER         8   \n3    536365    84029G  KNITTED UNION FLAG HOT WATER BOTTLE         6   \n4    536365    84029E       RED WOOLLY HOTTIE WHITE HEART.         6   \n\n      InvoiceDate  UnitPrice  CustomerID         Country  \n0  12/1/2010 8:26       2.55     17850.0  United Kingdom  \n1  12/1/2010 8:26       3.39     17850.0  United Kingdom  \n2  12/1/2010 8:26       2.75     17850.0  United Kingdom  \n3  12/1/2010 8:26       3.39     17850.0  United Kingdom  \n4  12/1/2010 8:26       3.39     17850.0  United Kingdom  ",
      "text/html": "<div>\n<style scoped>\n    .dataframe tbody tr th:only-of-type {\n        vertical-align: middle;\n    }\n\n    .dataframe tbody tr th {\n        vertical-align: top;\n    }\n\n    .dataframe thead th {\n        text-align: right;\n    }\n</style>\n<table border=\"1\" class=\"dataframe\">\n  <thead>\n    <tr style=\"text-align: right;\">\n      <th></th>\n      <th>InvoiceNo</th>\n      <th>StockCode</th>\n      <th>Description</th>\n      <th>Quantity</th>\n      <th>InvoiceDate</th>\n      <th>UnitPrice</th>\n      <th>CustomerID</th>\n      <th>Country</th>\n    </tr>\n  </thead>\n  <tbody>\n    <tr>\n      <th>0</th>\n      <td>536365</td>\n      <td>85123A</td>\n      <td>WHITE HANGING HEART T-LIGHT HOLDER</td>\n      <td>6</td>\n      <td>12/1/2010 8:26</td>\n      <td>2.55</td>\n      <td>17850.0</td>\n      <td>United Kingdom</td>\n    </tr>\n    <tr>\n      <th>1</th>\n      <td>536365</td>\n      <td>71053</td>\n      <td>WHITE METAL LANTERN</td>\n      <td>6</td>\n      <td>12/1/2010 8:26</td>\n      <td>3.39</td>\n      <td>17850.0</td>\n      <td>United Kingdom</td>\n    </tr>\n    <tr>\n      <th>2</th>\n      <td>536365</td>\n      <td>84406B</td>\n      <td>CREAM CUPID HEARTS COAT HANGER</td>\n      <td>8</td>\n      <td>12/1/2010 8:26</td>\n      <td>2.75</td>\n      <td>17850.0</td>\n      <td>United Kingdom</td>\n    </tr>\n    <tr>\n      <th>3</th>\n      <td>536365</td>\n      <td>84029G</td>\n      <td>KNITTED UNION FLAG HOT WATER BOTTLE</td>\n      <td>6</td>\n      <td>12/1/2010 8:26</td>\n      <td>3.39</td>\n      <td>17850.0</td>\n      <td>United Kingdom</td>\n    </tr>\n    <tr>\n      <th>4</th>\n      <td>536365</td>\n      <td>84029E</td>\n      <td>RED WOOLLY HOTTIE WHITE HEART.</td>\n      <td>6</td>\n      <td>12/1/2010 8:26</td>\n      <td>3.39</td>\n      <td>17850.0</td>\n      <td>United Kingdom</td>\n    </tr>\n  </tbody>\n</table>\n</div>"
     },
     "execution_count": 3,
     "metadata": {},
     "output_type": "execute_result"
    }
   ],
   "source": [
    "data = pd.read_csv('Ecommerce_UKRetailer.csv')\n",
    "data.head()"
   ]
  },
  {
   "cell_type": "code",
   "execution_count": 4,
   "metadata": {
    "pycharm": {
     "name": "#%%\n"
    }
   },
   "outputs": [
    {
     "data": {
      "text/plain": "InvoiceNo           0\nStockCode           0\nDescription      1454\nQuantity            0\nInvoiceDate         0\nUnitPrice           0\nCustomerID     135080\nCountry             0\ndtype: int64"
     },
     "execution_count": 4,
     "metadata": {},
     "output_type": "execute_result"
    }
   ],
   "source": [
    "data.isnull().sum()"
   ]
  },
  {
   "cell_type": "code",
   "execution_count": 5,
   "metadata": {
    "pycharm": {
     "name": "#%%\n"
    }
   },
   "outputs": [],
   "source": [
    "mode_C = data[\"CustomerID\"].mode()[0]\n",
    "data[\"CustomerID\"]=data[\"CustomerID\"].fillna(mode_C)\n",
    "mode_D = data['Description'].mode()[0]\n",
    "data['Description'] = data.Description.fillna(mode_D)"
   ]
  },
  {
   "cell_type": "markdown",
   "metadata": {
    "pycharm": {
     "name": "#%% md\n"
    }
   },
   "source": [
    "Here, we have replaced the missing value with mode"
   ]
  },
  {
   "cell_type": "markdown",
   "metadata": {
    "pycharm": {
     "name": "#%% md\n"
    }
   },
   "source": [
    "## Task 3. Remove duplicate rows"
   ]
  },
  {
   "cell_type": "code",
   "execution_count": 6,
   "metadata": {
    "pycharm": {
     "name": "#%%\n"
    }
   },
   "outputs": [
    {
     "data": {
      "text/plain": "       InvoiceNo StockCode                        Description  Quantity  \\\n517       536409     21866        UNION JACK FLAG LUGGAGE TAG         1   \n527       536409     22866      HAND WARMER SCOTTY DOG DESIGN         1   \n537       536409     22900    SET 2 TEA TOWELS I LOVE LONDON          1   \n539       536409     22111       SCOTTIE DOG HOT WATER BOTTLE         1   \n555       536412     22327  ROUND SNACK BOXES SET OF 4 SKULLS         1   \n...          ...       ...                                ...       ...   \n541675    581538     22068        BLACK PIRATE TREASURE CHEST         1   \n541689    581538     23318     BOX OF 6 MINI VINTAGE CRACKERS         1   \n541692    581538     22992             REVOLVER WOODEN RULER          1   \n541699    581538     22694                       WICKER STAR          1   \n541701    581538     23343       JUMBO BAG VINTAGE CHRISTMAS          1   \n\n            InvoiceDate  UnitPrice  CustomerID         Country  \n517     12/1/2010 11:45       1.25     17908.0  United Kingdom  \n527     12/1/2010 11:45       2.10     17908.0  United Kingdom  \n537     12/1/2010 11:45       2.95     17908.0  United Kingdom  \n539     12/1/2010 11:45       4.95     17908.0  United Kingdom  \n555     12/1/2010 11:49       2.95     17920.0  United Kingdom  \n...                 ...        ...         ...             ...  \n541675  12/9/2011 11:34       0.39     14446.0  United Kingdom  \n541689  12/9/2011 11:34       2.49     14446.0  United Kingdom  \n541692  12/9/2011 11:34       1.95     14446.0  United Kingdom  \n541699  12/9/2011 11:34       2.10     14446.0  United Kingdom  \n541701  12/9/2011 11:34       2.08     14446.0  United Kingdom  \n\n[5268 rows x 8 columns]",
      "text/html": "<div>\n<style scoped>\n    .dataframe tbody tr th:only-of-type {\n        vertical-align: middle;\n    }\n\n    .dataframe tbody tr th {\n        vertical-align: top;\n    }\n\n    .dataframe thead th {\n        text-align: right;\n    }\n</style>\n<table border=\"1\" class=\"dataframe\">\n  <thead>\n    <tr style=\"text-align: right;\">\n      <th></th>\n      <th>InvoiceNo</th>\n      <th>StockCode</th>\n      <th>Description</th>\n      <th>Quantity</th>\n      <th>InvoiceDate</th>\n      <th>UnitPrice</th>\n      <th>CustomerID</th>\n      <th>Country</th>\n    </tr>\n  </thead>\n  <tbody>\n    <tr>\n      <th>517</th>\n      <td>536409</td>\n      <td>21866</td>\n      <td>UNION JACK FLAG LUGGAGE TAG</td>\n      <td>1</td>\n      <td>12/1/2010 11:45</td>\n      <td>1.25</td>\n      <td>17908.0</td>\n      <td>United Kingdom</td>\n    </tr>\n    <tr>\n      <th>527</th>\n      <td>536409</td>\n      <td>22866</td>\n      <td>HAND WARMER SCOTTY DOG DESIGN</td>\n      <td>1</td>\n      <td>12/1/2010 11:45</td>\n      <td>2.10</td>\n      <td>17908.0</td>\n      <td>United Kingdom</td>\n    </tr>\n    <tr>\n      <th>537</th>\n      <td>536409</td>\n      <td>22900</td>\n      <td>SET 2 TEA TOWELS I LOVE LONDON</td>\n      <td>1</td>\n      <td>12/1/2010 11:45</td>\n      <td>2.95</td>\n      <td>17908.0</td>\n      <td>United Kingdom</td>\n    </tr>\n    <tr>\n      <th>539</th>\n      <td>536409</td>\n      <td>22111</td>\n      <td>SCOTTIE DOG HOT WATER BOTTLE</td>\n      <td>1</td>\n      <td>12/1/2010 11:45</td>\n      <td>4.95</td>\n      <td>17908.0</td>\n      <td>United Kingdom</td>\n    </tr>\n    <tr>\n      <th>555</th>\n      <td>536412</td>\n      <td>22327</td>\n      <td>ROUND SNACK BOXES SET OF 4 SKULLS</td>\n      <td>1</td>\n      <td>12/1/2010 11:49</td>\n      <td>2.95</td>\n      <td>17920.0</td>\n      <td>United Kingdom</td>\n    </tr>\n    <tr>\n      <th>...</th>\n      <td>...</td>\n      <td>...</td>\n      <td>...</td>\n      <td>...</td>\n      <td>...</td>\n      <td>...</td>\n      <td>...</td>\n      <td>...</td>\n    </tr>\n    <tr>\n      <th>541675</th>\n      <td>581538</td>\n      <td>22068</td>\n      <td>BLACK PIRATE TREASURE CHEST</td>\n      <td>1</td>\n      <td>12/9/2011 11:34</td>\n      <td>0.39</td>\n      <td>14446.0</td>\n      <td>United Kingdom</td>\n    </tr>\n    <tr>\n      <th>541689</th>\n      <td>581538</td>\n      <td>23318</td>\n      <td>BOX OF 6 MINI VINTAGE CRACKERS</td>\n      <td>1</td>\n      <td>12/9/2011 11:34</td>\n      <td>2.49</td>\n      <td>14446.0</td>\n      <td>United Kingdom</td>\n    </tr>\n    <tr>\n      <th>541692</th>\n      <td>581538</td>\n      <td>22992</td>\n      <td>REVOLVER WOODEN RULER</td>\n      <td>1</td>\n      <td>12/9/2011 11:34</td>\n      <td>1.95</td>\n      <td>14446.0</td>\n      <td>United Kingdom</td>\n    </tr>\n    <tr>\n      <th>541699</th>\n      <td>581538</td>\n      <td>22694</td>\n      <td>WICKER STAR</td>\n      <td>1</td>\n      <td>12/9/2011 11:34</td>\n      <td>2.10</td>\n      <td>14446.0</td>\n      <td>United Kingdom</td>\n    </tr>\n    <tr>\n      <th>541701</th>\n      <td>581538</td>\n      <td>23343</td>\n      <td>JUMBO BAG VINTAGE CHRISTMAS</td>\n      <td>1</td>\n      <td>12/9/2011 11:34</td>\n      <td>2.08</td>\n      <td>14446.0</td>\n      <td>United Kingdom</td>\n    </tr>\n  </tbody>\n</table>\n<p>5268 rows × 8 columns</p>\n</div>"
     },
     "execution_count": 6,
     "metadata": {},
     "output_type": "execute_result"
    }
   ],
   "source": [
    "data[data.duplicated()]"
   ]
  },
  {
   "cell_type": "code",
   "execution_count": 7,
   "metadata": {
    "pycharm": {
     "name": "#%%\n"
    }
   },
   "outputs": [],
   "source": [
    "data.drop_duplicates(inplace = True)"
   ]
  },
  {
   "cell_type": "code",
   "execution_count": 9,
   "metadata": {
    "pycharm": {
     "name": "#%%\n"
    }
   },
   "outputs": [
    {
     "data": {
      "text/plain": "Empty DataFrame\nColumns: [InvoiceNo, StockCode, Description, Quantity, InvoiceDate, UnitPrice, CustomerID, Country]\nIndex: []",
      "text/html": "<div>\n<style scoped>\n    .dataframe tbody tr th:only-of-type {\n        vertical-align: middle;\n    }\n\n    .dataframe tbody tr th {\n        vertical-align: top;\n    }\n\n    .dataframe thead th {\n        text-align: right;\n    }\n</style>\n<table border=\"1\" class=\"dataframe\">\n  <thead>\n    <tr style=\"text-align: right;\">\n      <th></th>\n      <th>InvoiceNo</th>\n      <th>StockCode</th>\n      <th>Description</th>\n      <th>Quantity</th>\n      <th>InvoiceDate</th>\n      <th>UnitPrice</th>\n      <th>CustomerID</th>\n      <th>Country</th>\n    </tr>\n  </thead>\n  <tbody>\n  </tbody>\n</table>\n</div>"
     },
     "execution_count": 9,
     "metadata": {},
     "output_type": "execute_result"
    }
   ],
   "source": [
    "data[data.duplicated()]"
   ]
  },
  {
   "cell_type": "markdown",
   "metadata": {
    "pycharm": {
     "name": "#%% md\n"
    }
   },
   "source": [
    "## Task 4. Remove rows which have negative values in Quantity column"
   ]
  },
  {
   "cell_type": "code",
   "execution_count": 10,
   "metadata": {
    "pycharm": {
     "name": "#%%\n"
    }
   },
   "outputs": [],
   "source": [
    "ind = data[data['Quantity']<0].index\n",
    "data.drop(ind,inplace = True)"
   ]
  },
  {
   "cell_type": "markdown",
   "metadata": {
    "pycharm": {
     "name": "#%% md\n"
    }
   },
   "source": [
    "## Task 5. Add the columns - Month, Day and Hour for the invoice"
   ]
  },
  {
   "cell_type": "code",
   "execution_count": 11,
   "metadata": {
    "pycharm": {
     "name": "#%%\n"
    }
   },
   "outputs": [],
   "source": [
    "data['InvoiceDate'] = pd.to_datetime(data.InvoiceDate)\n",
    "data['Year'] = data.InvoiceDate.dt.year\n",
    "data['Month'] = data.InvoiceDate.dt.month\n",
    "data['Day'] = data.InvoiceDate.dt.day\n",
    "data['Hour'] = data.InvoiceDate.dt.hour"
   ]
  },
  {
   "cell_type": "markdown",
   "metadata": {
    "pycharm": {
     "name": "#%% md\n"
    }
   },
   "source": [
    "## 6. How many orders made by the customers?"
   ]
  },
  {
   "cell_type": "code",
   "execution_count": null,
   "metadata": {
    "pycharm": {
     "name": "#%%\n"
    }
   },
   "outputs": [],
   "source": [
    "data['Quantity'].value_counts().sum()"
   ]
  },
  {
   "cell_type": "code",
   "execution_count": null,
   "metadata": {
    "pycharm": {
     "name": "#%%\n"
    }
   },
   "outputs": [],
   "source": [
    "data.groupby(by=['CustomerID'],sort=True)['Quantity'].count().head()"
   ]
  },
  {
   "cell_type": "code",
   "execution_count": null,
   "metadata": {
    "pycharm": {
     "name": "#%%\n"
    }
   },
   "outputs": [],
   "source": [
    "orders=data.groupby(by=['CustomerID'],sort=True)['InvoiceNo'].count().head()\n",
    "orders"
   ]
  },
  {
   "cell_type": "markdown",
   "metadata": {
    "pycharm": {
     "name": "#%% md\n"
    }
   },
   "source": [
    "## 7. TOP 5 customers with higher number of orders"
   ]
  },
  {
   "cell_type": "code",
   "execution_count": null,
   "metadata": {
    "pycharm": {
     "name": "#%%\n"
    }
   },
   "outputs": [],
   "source": [
    "No_orders=data.groupby(by=['CustomerID'],as_index=False)['Quantity'].sum()\n",
    "top5 = No_orders.head(5)\n",
    "top5"
   ]
  },
  {
   "cell_type": "code",
   "execution_count": null,
   "metadata": {
    "pycharm": {
     "name": "#%%\n"
    }
   },
   "outputs": [],
   "source": [
    "plt.bar(top5.CustomerID,top5.Quantity)\n",
    "plt.xlabel('Customers ID')\n",
    "plt.ylabel('Number of Orders')\n",
    "plt.title('TOP 5 customers with higher number of orders')\n",
    "plt.show()"
   ]
  },
  {
   "cell_type": "markdown",
   "metadata": {
    "pycharm": {
     "name": "#%% md\n"
    }
   },
   "source": [
    "## Task 8. How much money spent by the customers?"
   ]
  },
  {
   "cell_type": "code",
   "execution_count": null,
   "metadata": {
    "pycharm": {
     "name": "#%%\n"
    }
   },
   "outputs": [],
   "source": [
    "data['Revenue'] = data.Quantity * data.UnitPrice\n",
    "data.Revenue.sum()"
   ]
  },
  {
   "cell_type": "code",
   "execution_count": null,
   "metadata": {
    "pycharm": {
     "name": "#%%\n"
    }
   },
   "outputs": [],
   "source": [
    "money_spend =data.groupby(['CustomerID'])['Revenue'].sum()\n",
    "money_spend"
   ]
  },
  {
   "cell_type": "markdown",
   "metadata": {
    "pycharm": {
     "name": "#%% md\n"
    }
   },
   "source": [
    "## Task 9. TOP 5 customers with highest money spen"
   ]
  },
  {
   "cell_type": "code",
   "execution_count": null,
   "metadata": {
    "pycharm": {
     "name": "#%%\n"
    }
   },
   "outputs": [],
   "source": [
    "Top5_cust = data.groupby(by=['CustomerID'],as_index=False)['Revenue'].sum().head(5)\n",
    "Top5_cust"
   ]
  },
  {
   "cell_type": "markdown",
   "metadata": {
    "pycharm": {
     "name": "#%% md\n"
    }
   },
   "source": [
    "## Task 10. How many orders per month?"
   ]
  },
  {
   "cell_type": "code",
   "execution_count": null,
   "metadata": {
    "pycharm": {
     "name": "#%%\n"
    }
   },
   "outputs": [],
   "source": [
    "order_permonth = data.groupby(['Month'])['InvoiceNo'].count()\n",
    "order_permonth"
   ]
  },
  {
   "cell_type": "markdown",
   "metadata": {
    "pycharm": {
     "name": "#%% md\n"
    }
   },
   "source": [
    "## Task 12. How many orders per Day?"
   ]
  },
  {
   "cell_type": "code",
   "execution_count": null,
   "metadata": {
    "pycharm": {
     "name": "#%%\n"
    }
   },
   "outputs": [],
   "source": [
    "orders_perday=data.groupby(data[\"Day\"]).agg({\"InvoiceNo\":\"count\"})\n",
    "orders_perday"
   ]
  },
  {
   "cell_type": "markdown",
   "metadata": {
    "pycharm": {
     "name": "#%% md\n"
    }
   },
   "source": [
    "## Task 12. How many orders per hour?"
   ]
  },
  {
   "cell_type": "code",
   "execution_count": null,
   "metadata": {
    "pycharm": {
     "name": "#%%\n"
    }
   },
   "outputs": [],
   "source": [
    "orders_perhour=data.groupby(data[\"Hour\"]).agg({\"InvoiceNo\":\"count\"})\n",
    "orders_perhour"
   ]
  },
  {
   "cell_type": "markdown",
   "metadata": {
    "pycharm": {
     "name": "#%% md\n"
    }
   },
   "source": [
    "## Task 13. How many orders for each country?"
   ]
  },
  {
   "cell_type": "code",
   "execution_count": null,
   "metadata": {
    "pycharm": {
     "name": "#%%\n"
    }
   },
   "outputs": [],
   "source": [
    "orders_percountry = data.groupby(data[\"Country\"]).agg({\"InvoiceNo\":\"count\"})\n",
    "orders_percountry"
   ]
  },
  {
   "cell_type": "markdown",
   "metadata": {
    "pycharm": {
     "name": "#%% md\n"
    }
   },
   "source": [
    "## Task 14. Orders trend across months"
   ]
  },
  {
   "cell_type": "code",
   "execution_count": null,
   "metadata": {
    "pycharm": {
     "name": "#%%\n"
    }
   },
   "outputs": [],
   "source": [
    "fig = plt.figure(figsize=(15, 7))\n",
    "x = fig.add_subplot(111)\n",
    "x.set_xlabel('Month',fontsize=15)\n",
    "x.set_ylabel('Total Number of Order by Month',fontsize=15)\n",
    "x.set_title('Total Number of Order by Month',fontsize=15)\n",
    "x.bar(data.groupby(by=['Month'])['InvoiceNo'].count().index.tolist(),data.groupby(by=['Month'])['InvoiceNo'].count(),alpha = 0.5,label='Number of Order by Month')\n",
    "x1 = x.twinx()\n",
    "x1.plot(data.groupby(by=['Month'])['InvoiceNo'].count().pct_change().fillna(0)*100,c = 'r',linewidth=1.5,label='Percentage change of total Order (%)')\n",
    "x1.set_ylabel('Percentage Change of total Order (%)',fontsize=15)\n",
    "x.legend(loc='upper left')\n",
    "x1.legend(loc='upper right')\n",
    "fig.tight_layout()\n",
    "plt.show()\n",
    "plt.show()"
   ]
  },
  {
   "cell_type": "code",
   "execution_count": null,
   "metadata": {
    "pycharm": {
     "name": "#%%\n"
    }
   },
   "outputs": [],
   "source": [
    "fig = plt.figure(figsize=(15, 7))\n",
    "x2 = fig.add_subplot(111)\n",
    "x2.set_xlabel('Month',fontsize=15)\n",
    "x2.set_ylabel('Total Number of Order',fontsize=15)\n",
    "x2.set_title('Total Revenue for Each Months',fontsize=15)\n",
    "x2.bar(data.groupby(by=['Month'])['Revenue'].sum().index.tolist(),data.groupby(by=['Month'])['Revenue'].sum(),alpha = 0.4,color = 'g',label='Amount Spent by Month')\n",
    "x3 = x2.twinx()\n",
    "x3.plot(data.groupby(by=['Month'])['Revenue'].sum().pct_change().fillna(0)*100,c = 'r',linewidth=1.5,label='Percentage change of total amount spent (%)')\n",
    "x3.set_ylabel('Percentage Change of Total Number of Order (%)',fontsize=15)\n",
    "x1.legend(loc='upper left')\n",
    "x3.legend(loc='upper right')\n",
    "fig.tight_layout()\n",
    "plt.show()"
   ]
  },
  {
   "cell_type": "markdown",
   "metadata": {
    "pycharm": {
     "name": "#%% md\n"
    }
   },
   "source": [
    "## Task 15. How much money spent by each country?"
   ]
  },
  {
   "cell_type": "code",
   "execution_count": null,
   "metadata": {
    "pycharm": {
     "name": "#%%\n"
    }
   },
   "outputs": [],
   "source": [
    "money_spent_contry = data.groupby(['Country'])[\"Revenue\"].sum()\n",
    "money_spent_contry"
   ]
  },
  {
   "cell_type": "code",
   "execution_count": null,
   "metadata": {
    "pycharm": {
     "name": "#%%\n"
    }
   },
   "outputs": [],
   "source": []
  }
 ],
 "metadata": {
  "kernelspec": {
   "display_name": "Python 3 (ipykernel)",
   "language": "python",
   "name": "python3"
  },
  "language_info": {
   "codemirror_mode": {
    "name": "ipython",
    "version": 3
   },
   "file_extension": ".py",
   "mimetype": "text/x-python",
   "name": "python",
   "nbconvert_exporter": "python",
   "pygments_lexer": "ipython3",
   "version": "3.9.7"
  }
 },
 "nbformat": 4,
 "nbformat_minor": 1
}